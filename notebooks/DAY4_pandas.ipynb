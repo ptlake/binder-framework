{
 "cells": [
  {
   "cell_type": "markdown",
   "metadata": {},
   "source": [
    "# Day 4: Pandas"
   ]
  },
  {
   "cell_type": "code",
   "execution_count": 1,
   "metadata": {},
   "outputs": [],
   "source": [
    "import pandas as pd\n",
    "import numpy as np\n",
    "\n",
    "vecsp=pd.read_csv(\"../data/Value_of_Energy_Cost_Savings_Program_Savings_for_Businesses_-_FY2020.csv\")"
   ]
  },
  {
   "cell_type": "markdown",
   "metadata": {},
   "source": [
    "## 1.  How many different companies are represented in the data set?\n",
    "\n",
    "Remove duplicate companies by comparing \"Company Name\".\n",
    "May not be robust if strings do not match exactly - but there is no other field that indicates company."
   ]
  },
  {
   "cell_type": "code",
   "execution_count": 11,
   "metadata": {},
   "outputs": [
    {
     "name": "stdout",
     "output_type": "stream",
     "text": [
      "439 companies found in data\n"
     ]
    }
   ],
   "source": [
    "print(vecsp[\"Company Name\"].nunique(),\"companies found in data\")"
   ]
  },
  {
   "cell_type": "markdown",
   "metadata": {},
   "source": [
    "## 2.  What is the total number of jobs created for businesses in Queens?\n",
    "\n",
    "The supplimentary info suggests that the code \"Qn\" can be used in lieue of \"Queens\".  There are no examples of this in the present data set, but it's accounted for, regardless."
   ]
  },
  {
   "cell_type": "code",
   "execution_count": 6,
   "metadata": {},
   "outputs": [
    {
     "name": "stdout",
     "output_type": "stream",
     "text": [
      "102 jobs created in Queens\n"
     ]
    }
   ],
   "source": [
    "vecsp.loc[vecsp[\"Borough\"]==\"Qn\",[\"Borough\"]]=\"Queens\"\n",
    "vecsp[\"Job created\"]=vecsp[\"Job created\"].astype('Int64')\n",
    "print(int(vecsp.groupby(\"Borough\")[\"Job created\"].sum()[\"Queens\"]),\"jobs created in Queens\")"
   ]
  },
  {
   "cell_type": "markdown",
   "metadata": {},
   "source": [
    "## 3.  How many different unique email domain names are there in the data set?\n",
    "\n",
    "I considered \"domain names\" to be everything after \"@\".  Not that there are any \"@hotmail.net\" or anything..."
   ]
  },
  {
   "cell_type": "code",
   "execution_count": 13,
   "metadata": {},
   "outputs": [
    {
     "name": "stdout",
     "output_type": "stream",
     "text": [
      "356 email domain names in data\n"
     ]
    }
   ],
   "source": [
    "vecsp[\"email domain\"]=vecsp[\"company email\"].str.lower().str.extract(r'^.*@(.*)$')\n",
    "print(vecsp[\"email domain\"].nunique(),\"email domain names in data\")"
   ]
  },
  {
   "cell_type": "markdown",
   "metadata": {},
   "source": [
    "## 4.  Considering only NTAs with at least 5 listed businesses, what is the average total savings and the total jobs created for each NTA?\n",
    "\n",
    "I store the counts in the resulting dataframe along with the \"Job created\" and \"Total Savings\"."
   ]
  },
  {
   "cell_type": "code",
   "execution_count": 14,
   "metadata": {},
   "outputs": [
    {
     "name": "stdout",
     "output_type": "stream",
     "text": [
      "List of jobs created and total savings by NTAs:\n",
      "                                                  count  Job created  \\\n",
      "NTA                                                                    \n",
      "Battery Park City-Lower Manhattan                     9         <NA>   \n",
      "Bushwick South                                       10           10   \n",
      "Carroll Gardens-Columbia Street-Red Hook             11         <NA>   \n",
      "College Point                                         7            2   \n",
      "Crown Heights North                                   9         <NA>   \n",
      "DUMBO-Vinegar Hill-Downtown Brooklyn-Boerum Hill     10         <NA>   \n",
      "East New York                                         9           15   \n",
      "East Williamsburg                                    11         <NA>   \n",
      "Greenpoint                                           14         <NA>   \n",
      "Hunters Point-Sunnyside-West Maspeth                 75         <NA>   \n",
      "Hunts Point                                          13           12   \n",
      "Manhattanville                                        9         <NA>   \n",
      "Maspeth                                               9           10   \n",
      "Mott Haven-Port Morris                               14           10   \n",
      "Queensbridge-Ravenswood-Long Island City             16         <NA>   \n",
      "SoHo-TriBeCa-Civic Center-Little Italy                5         <NA>   \n",
      "Springfield Gardens South-Brookville                  5         <NA>   \n",
      "Steinway                                              7           20   \n",
      "Sunset Park West                                     48         <NA>   \n",
      "park-cemetery-etc-Brooklyn                           15         <NA>   \n",
      "\n",
      "                                                  Total Savings  \n",
      "NTA                                                              \n",
      "Battery Park City-Lower Manhattan                     469890.80  \n",
      "Bushwick South                                         26140.46  \n",
      "Carroll Gardens-Columbia Street-Red Hook               24337.39  \n",
      "College Point                                          17159.37  \n",
      "Crown Heights North                                     4036.30  \n",
      "DUMBO-Vinegar Hill-Downtown Brooklyn-Boerum Hill       59950.34  \n",
      "East New York                                          48433.09  \n",
      "East Williamsburg                                      13990.63  \n",
      "Greenpoint                                              9753.65  \n",
      "Hunters Point-Sunnyside-West Maspeth                   23931.40  \n",
      "Hunts Point                                            39246.02  \n",
      "Manhattanville                                          2760.89  \n",
      "Maspeth                                                 6658.28  \n",
      "Mott Haven-Port Morris                                 17843.94  \n",
      "Queensbridge-Ravenswood-Long Island City               61830.77  \n",
      "SoHo-TriBeCa-Civic Center-Little Italy                 37214.02  \n",
      "Springfield Gardens South-Brookville                   17757.66  \n",
      "Steinway                                               11227.16  \n",
      "Sunset Park West                                       14316.98  \n",
      "park-cemetery-etc-Brooklyn                             14327.42  \n"
     ]
    }
   ],
   "source": [
    "byNTA=vecsp.groupby(\"NTA\").agg(**{\n",
    "    \"count\":(\"NTA\",\"size\"),\n",
    "    \"Job created\":(\"Job created\",\"sum\"),\n",
    "    \"Total Savings\":(\"Total Savings\",\"mean\")\n",
    "})\n",
    "byNTA[\"Total Savings\"]=round(100*byNTA[\"Total Savings\"])/100\n",
    "byNTA.replace(0,np.nan,inplace=True)\n",
    "print(\"List of jobs created and total savings by NTAs:\")\n",
    "print(byNTA[byNTA[\"count\"]>4])"
   ]
  },
  {
   "cell_type": "markdown",
   "metadata": {},
   "source": [
    "## 5.  Save your result for the previous question as a CSV file.\n",
    "\n",
    "Saved in the `data` directory."
   ]
  },
  {
   "cell_type": "code",
   "execution_count": 15,
   "metadata": {},
   "outputs": [
    {
     "name": "stdout",
     "output_type": "stream",
     "text": [
      "file saved in \"data/out.csv\"\n"
     ]
    }
   ],
   "source": [
    "byNTA[byNTA[\"count\"]>4].to_csv(\"../data/DAY4_out.csv\")\n",
    "print(\"file saved in \\\"data/DAY4_out.csv\\\"\")"
   ]
  },
  {
   "cell_type": "code",
   "execution_count": null,
   "metadata": {},
   "outputs": [],
   "source": []
  }
 ],
 "metadata": {
  "kernelspec": {
   "display_name": "Python 3 (ipykernel)",
   "language": "python",
   "name": "python3"
  },
  "language_info": {
   "codemirror_mode": {
    "name": "ipython",
    "version": 3
   },
   "file_extension": ".py",
   "mimetype": "text/x-python",
   "name": "python",
   "nbconvert_exporter": "python",
   "pygments_lexer": "ipython3",
   "version": "3.8.0"
  }
 },
 "nbformat": 4,
 "nbformat_minor": 4
}
